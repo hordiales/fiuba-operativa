{
  "nbformat": 4,
  "nbformat_minor": 0,
  "metadata": {
    "colab": {
      "provenance": []
    },
    "kernelspec": {
      "name": "python3",
      "display_name": "Python 3"
    },
    "language_info": {
      "name": "python"
    }
  },
  "cells": [
    {
      "cell_type": "code",
      "source": [
        "!pip install pulp"
      ],
      "metadata": {
        "colab": {
          "base_uri": "https://localhost:8080/"
        },
        "id": "5tvoLZugUQv5",
        "outputId": "374fadb2-e0a4-46a2-9a2f-8b051a0a2a9b"
      },
      "execution_count": 2,
      "outputs": [
        {
          "output_type": "stream",
          "name": "stdout",
          "text": [
            "Collecting pulp\n",
            "  Downloading pulp-3.2.2-py3-none-any.whl.metadata (6.9 kB)\n",
            "Downloading pulp-3.2.2-py3-none-any.whl (16.4 MB)\n",
            "\u001b[2K   \u001b[90m━━━━━━━━━━━━━━━━━━━━━━━━━━━━━━━━━━━━━━━━\u001b[0m \u001b[32m16.4/16.4 MB\u001b[0m \u001b[31m95.2 MB/s\u001b[0m eta \u001b[36m0:00:00\u001b[0m\n",
            "\u001b[?25hInstalling collected packages: pulp\n",
            "Successfully installed pulp-3.2.2\n"
          ]
        }
      ]
    },
    {
      "cell_type": "markdown",
      "source": [
        "# Ejercicio Guía 2.2\n",
        "Un fraccionador de whisky importa el licor en tres distintas graduaciones A, B y C.\n",
        "Mediante la mezcla de estos licores, de acuerdo a sus fórmulas, se obtienen los whiskies de calidades\n",
        "comercializables Escocés, Kilt y Tartan.\n",
        "Las citadas fórmulas especifican las siguientes relaciones entre los elementos a mezclar.\n",
        "\n",
        "## 🥃 Especificaciones de Mezcla por Marca de Whisky\n",
        "\n",
        "| Marca   | Restricciones de Mezcla         | Precio de Venta ($/litro) |\n",
        "|---------|----------------------------------|----------------------------|\n",
        "| Escocés | ≥ 60% de A, ≤ 20% de C          | 6.80                       |\n",
        "| Kilt    | ≥ 15% de A, ≤ 60% de C          | 5.70                       |\n",
        "| Tartan  | ≤ 50% de C                      | 4.50                       |\n",
        "\n",
        "---\n",
        "\n",
        "## 🧪 Disponibilidad y Costo de los Licores\n",
        "\n",
        "| Tipo de Licor | Litros Disponibles | Costo ($/litro) |\n",
        "|---------------|--------------------|------------------|\n",
        "| A             | 2000               | 7.00             |\n",
        "| B             | 2500               | 5.00             |\n",
        "| C             | 1200               | 4.00             |\n",
        "\n",
        "---\n",
        "\n",
        "## Objetivo\n",
        "\n",
        "Determinar la composición óptima de cada marca de whisky para **maximizar el beneficio total**, considerando:\n",
        "\n",
        "- El precio de venta de cada marca.\n",
        "- El costo por litro de cada tipo de licor.\n",
        "- Las restricciones de mezcla establecidas por cada fórmula.\n",
        "- La disponibilidad limitada de insumos."
      ],
      "metadata": {
        "id": "DgocSPfWf3pj"
      }
    },
    {
      "cell_type": "code",
      "execution_count": null,
      "metadata": {
        "id": "BhS1S8ooUFwg"
      },
      "outputs": [],
      "source": [
        "import pulp\n",
        "import matplotlib.pyplot as plt\n",
        "import pandas as pd"
      ]
    },
    {
      "cell_type": "code",
      "source": [
        "# Crear modelo\n",
        "model = pulp.LpProblem(\"Mezcla_de_Whisky\", pulp.LpMaximize)"
      ],
      "metadata": {
        "id": "3WQBjhpCzLWX"
      },
      "execution_count": null,
      "outputs": []
    },
    {
      "cell_type": "code",
      "source": [
        "# Definición de variables\n",
        "tipos = ['A', 'B', 'C']\n",
        "marcas = ['E', 'K', 'T'] # Escocés, Kilt, Tartan\n",
        "vars = pulp.LpVariable.dicts(\"Litros\", [(m, t) for m in marcas for t in tipos], lowBound=0) # forma compacta de definir variables"
      ],
      "metadata": {
        "id": "hdULzYG8zR1e"
      },
      "execution_count": null,
      "outputs": []
    },
    {
      "cell_type": "code",
      "source": [
        "# Beneficio\n",
        "beneficio = {\n",
        "    ('E', 'A'): -0.20, ('E', 'B'): 1.80, ('E', 'C'): 2.80,\n",
        "    ('K', 'A'): -1.30, ('K', 'B'): 0.70, ('K', 'C'): 1.70,\n",
        "    ('T', 'A'): -2.50, ('T', 'B'): -0.50, ('T', 'C'): 0.50\n",
        "}"
      ],
      "metadata": {
        "id": "BkOpklL902xD"
      },
      "execution_count": null,
      "outputs": []
    },
    {
      "cell_type": "code",
      "source": [
        "model += pulp.lpSum(beneficio[(m, t)] * vars[(m, t)] for m in marcas for t in tipos)\n",
        "\n",
        "# Restricciones de disponibilidad\n",
        "model += vars[('E', 'A')] + vars[('K', 'A')] + vars[('T', 'A')] <= 2000\n",
        "model += vars[('E', 'B')] + vars[('K', 'B')] + vars[('T', 'B')] <= 2500\n",
        "model += vars[('E', 'C')] + vars[('K', 'C')] + vars[('T', 'C')] <= 1200\n",
        "\n",
        "# Restricciones de mezcla\n",
        "EA, EB, EC = vars[('E', 'A')], vars[('E', 'B')], vars[('E', 'C')]\n",
        "KA, KB, KC = vars[('K', 'A')], vars[('K', 'B')], vars[('K', 'C')]\n",
        "TA, TB, TC = vars[('T', 'A')], vars[('T', 'B')], vars[('T', 'C')]\n",
        "\n",
        "model += EA >= 0.6 * (EA + EB + EC)\n",
        "model += EC <= 0.2 * (EA + EB + EC)\n",
        "model += KA >= 0.15 * (KA + KB + KC)\n",
        "model += KC <= 0.6 * (KA + KB + KC)\n",
        "model += TC <= 0.5 * (TA + TB + TC)\n",
        "\n",
        "# Resolver\n",
        "model.solve()\n",
        "\n",
        "# Resultados\n",
        "print(f\"Ganancia total: ${pulp.value(model.objective):.2f}\")\n",
        "\n",
        "results = []\n",
        "for m in marcas:\n",
        "    for t in tipos:\n",
        "        litros = vars[(m, t)].varValue\n",
        "        if litros > 0:\n",
        "            results.append({'Marca': m, 'Tipo': t, 'Litros': litros})\n",
        "\n",
        "df = pd.DataFrame(results)\n",
        "pivot = df.pivot(index='Marca', columns='Tipo', values='Litros').fillna(0)\n",
        "\n",
        "# Gráfico\n",
        "pivot.plot(kind='bar', stacked=True, figsize=(10, 6))\n",
        "plt.title(\"Distribución óptima de mezcla por marca\")\n",
        "plt.ylabel(\"Litros\")\n",
        "plt.xticks(rotation=0)\n",
        "plt.tight_layout()\n",
        "plt.show()\n",
        "\n",
        "# Análisis de sensibilidad\n",
        "sens_df = pd.DataFrame([\n",
        "    {\"Restricción\": name, \"Shadow Price\": c.pi, \"Slack\": c.slack}\n",
        "    for name, c in model.constraints.items()\n",
        "])\n",
        "print(\"\\nAnálisis de sensibilidad:\")\n",
        "print(sens_df.to_string(index=False))"
      ],
      "metadata": {
        "id": "uss76pwR06Fv",
        "outputId": "b5c0ccb9-a89f-421d-e103-1f129390d913",
        "colab": {
          "base_uri": "https://localhost:8080/",
          "height": 815
        }
      },
      "execution_count": null,
      "outputs": [
        {
          "output_type": "stream",
          "name": "stdout",
          "text": [
            "Ganancia total: $3988.89\n"
          ]
        },
        {
          "output_type": "display_data",
          "data": {
            "text/plain": [
              "<Figure size 1000x600 with 1 Axes>"
            ],
            "image/png": "[encoded data removed]"
          },
          "metadata": {}
        },
        {
          "output_type": "stream",
          "name": "stdout",
          "text": [
            "\n",
            "Análisis de sensibilidad:\n",
            "Restricción  Shadow Price         Slack\n",
            "        _C1      0.777778 -0.000000e+00\n",
            "        _C2      0.333333 -0.000000e+00\n",
            "        _C3      1.333333 -0.000000e+00\n",
            "        _C4     -2.444444  5.703479e-13\n",
            "        _C5     -0.000000  5.088889e+02\n",
            "        _C6     -2.444444  5.131424e-13\n",
            "        _C7     -0.000000  6.933333e+02\n",
            "        _C8     -0.000000 -0.000000e+00\n"
          ]
        }
      ]
    },
    {
      "cell_type": "code",
      "source": [
        "import pulp"
      ],
      "metadata": {
        "id": "l_DYHio2CVWU"
      },
      "execution_count": null,
      "outputs": []
    },
    {
      "cell_type": "markdown",
      "source": [
        "# Solución 2\n",
        "\n",
        "Desarrollada con detalle.\n",
        "\n",
        "Solución alternativa con variables totalizadoras: https://colab.research.google.com/drive/1QtTFoEEKZ6yL4SAwh97LCizzTwCBACiE#scrollTo=HP-Bzud2JYMg"
      ],
      "metadata": {
        "id": "9zxMDeHAJjE_"
      }
    },
    {
      "cell_type": "code",
      "source": [
        "\"\"\"\n",
        "Problema de Programación Lineal - Mezcla de Whiskies\n",
        "Resolver usando PuLP para maximizar beneficios\n",
        "\"\"\"\n",
        "\n",
        "# Crear el problema de maximización\n",
        "prob = pulp.LpProblem(\"Mezcla_Whiskies\", pulp.LpMaximize)"
      ],
      "metadata": {
        "id": "6StDYyKTff5X"
      },
      "execution_count": 19,
      "outputs": []
    },
    {
      "cell_type": "code",
      "source": [
        "# Variables de decisión >=0\n",
        "# x_ij = litros del licor i (A, B, C) usados en la marca j (Escocés, Kilt, Tartan)\n",
        "x_AE = pulp.LpVariable(\"x_A_Escoces\", lowBound=0)\n",
        "x_BE = pulp.LpVariable(\"x_B_Escoces\", lowBound=0)\n",
        "x_CE = pulp.LpVariable(\"x_C_Escoces\", lowBound=0)\n",
        "\n",
        "x_AK = pulp.LpVariable(\"x_A_Kilt\", lowBound=0)\n",
        "x_BK = pulp.LpVariable(\"x_B_Kilt\", lowBound=0)\n",
        "x_CK = pulp.LpVariable(\"x_C_Kilt\", lowBound=0)\n",
        "\n",
        "x_AT = pulp.LpVariable(\"x_A_Tartan\", lowBound=0)\n",
        "x_BT = pulp.LpVariable(\"x_B_Tartan\", lowBound=0)\n",
        "x_CT = pulp.LpVariable(\"x_C_Tartan\", lowBound=0)"
      ],
      "metadata": {
        "id": "W1GAtyZpCZUj"
      },
      "execution_count": 27,
      "outputs": []
    },
    {
      "cell_type": "code",
      "source": [
        "# Datos del problema\n",
        "precio_venta = {\n",
        "    'Escoces': 6.80,\n",
        "    'Kilt': 5.70,\n",
        "    'Tartan': 4.50\n",
        "}\n",
        "\n",
        "precio_costo = {\n",
        "    'A': 7.00,\n",
        "    'B': 5.00,\n",
        "    'C': 4.00\n",
        "}\n",
        "\n",
        "disponibilidad = {\n",
        "    'A': 2000,\n",
        "    'B': 2500,\n",
        "    'C': 1200\n",
        "}"
      ],
      "metadata": {
        "id": "G8bbL_E2BRzJ"
      },
      "execution_count": 28,
      "outputs": []
    },
    {
      "cell_type": "code",
      "source": [
        "# Función objetivo: Maximizar beneficios\n",
        "# Beneficio = Ingresos por ventas - Costos de materias primas\n",
        "prob += (\n",
        "    # Ingresos por Escocés\n",
        "    precio_venta['Escoces'] * (x_AE + x_BE + x_CE) -\n",
        "    # Costos del Escocés\n",
        "    (precio_costo['A'] * x_AE + precio_costo['B'] * x_BE + precio_costo['C'] * x_CE) +\n",
        "\n",
        "    # Ingresos por Kilt\n",
        "    precio_venta['Kilt'] * (x_AK + x_BK + x_CK) -\n",
        "    # Costos del Kilt\n",
        "    (precio_costo['A'] * x_AK + precio_costo['B'] * x_BK + precio_costo['C'] * x_CK) +\n",
        "\n",
        "    # Ingresos por Tartan\n",
        "    precio_venta['Tartan'] * (x_AT + x_BT + x_CT) -\n",
        "    # Costos del Tartan\n",
        "    (precio_costo['A'] * x_AT + precio_costo['B'] * x_BT + precio_costo['C'] * x_CT)\n",
        "), \"Beneficio_Total\""
      ],
      "metadata": {
        "id": "Hw5fgBaSCpfd"
      },
      "execution_count": 29,
      "outputs": []
    },
    {
      "cell_type": "code",
      "source": [
        "# Restricciones de disponibilidad\n",
        "prob += x_AE + x_AK + x_AT <= disponibilidad['A'], \"Disponibilidad_A\"\n",
        "prob += x_BE + x_BK + x_BT <= disponibilidad['B'], \"Disponibilidad_B\"\n",
        "prob += x_CE + x_CK + x_CT <= disponibilidad['C'], \"Disponibilidad_C\"\n",
        "\n",
        "# Restricciones de composición para Escocés\n",
        "# No menos del 60% de A\n",
        "prob += x_AE >= 0.60 * (x_AE + x_BE + x_CE), \"Escoces_min_A\"\n",
        "# No más del 20% de C\n",
        "prob += x_CE <= 0.20 * (x_AE + x_BE + x_CE), \"Escoces_max_C\"\n",
        "\n",
        "# Restricciones de composición para Kilt\n",
        "# No menos del 15% de A\n",
        "prob += x_AK >= 0.15 * (x_AK + x_BK + x_CK), \"Kilt_min_A\"\n",
        "# No más del 60% de C\n",
        "prob += x_CK <= 0.60 * (x_AK + x_BK + x_CK), \"Kilt_max_C\"\n",
        "\n",
        "# Restricciones de composición para Tartan\n",
        "# No más del 50% de C\n",
        "prob += x_CT <= 0.50 * (x_AT + x_BT + x_CT), \"Tartan_max_C\""
      ],
      "metadata": {
        "id": "Ly08f9dAE8F1"
      },
      "execution_count": 24,
      "outputs": []
    },
    {
      "cell_type": "code",
      "source": [
        "# Resolver el problema\n",
        "prob.solve()"
      ],
      "metadata": {
        "colab": {
          "base_uri": "https://localhost:8080/"
        },
        "id": "MArqKf6XFAVd",
        "outputId": "d0bd471a-8422-4f52-fef2-52c609342e6e"
      },
      "execution_count": 25,
      "outputs": [
        {
          "output_type": "execute_result",
          "data": {
            "text/plain": [
              "1"
            ]
          },
          "metadata": {},
          "execution_count": 25
        }
      ]
    },
    {
      "cell_type": "code",
      "source": [
        "# Mostrar resultados\n",
        "print(\"=\" * 60)\n",
        "print(\"SOLUCIÓN ÓPTIMA DEL PROBLEMA DE MEZCLA DE WHISKIES\")\n",
        "print(\"=\" * 60)\n",
        "print(f\"\\nEstado: {pulp.LpStatus[prob.status]}\")\n",
        "print(f\"Beneficio Total Máximo: ${pulp.value(prob.objective):.2f}\")\n",
        "\n",
        "print(\"\\n\" + \"=\" * 60)\n",
        "print(\"COMPOSICIÓN ÓPTIMA DE CADA MARCA (en litros):\")\n",
        "print(\"=\" * 60)\n",
        "\n",
        "# Escocés\n",
        "total_escoces = x_AE.varValue + x_BE.varValue + x_CE.varValue\n",
        "print(f\"\\nESCOCÉS (Total: {total_escoces:.2f} litros):\")\n",
        "if total_escoces > 0:\n",
        "    print(f\"  Licor A: {x_AE.varValue:.2f} litros ({x_AE.varValue/total_escoces*100:.1f}%)\")\n",
        "    print(f\"  Licor B: {x_BE.varValue:.2f} litros ({x_BE.varValue/total_escoces*100:.1f}%)\")\n",
        "    print(f\"  Licor C: {x_CE.varValue:.2f} litros ({x_CE.varValue/total_escoces*100:.1f}%)\")\n",
        "else:\n",
        "    print(\"  No se produce Escocés en la solución óptima\")\n",
        "\n",
        "# Kilt\n",
        "total_kilt = x_AK.varValue + x_BK.varValue + x_CK.varValue\n",
        "print(f\"\\nKILT (Total: {total_kilt:.2f} litros):\")\n",
        "if total_kilt > 0:\n",
        "    print(f\"  Licor A: {x_AK.varValue:.2f} litros ({x_AK.varValue/total_kilt*100:.1f}%)\")\n",
        "    print(f\"  Licor B: {x_BK.varValue:.2f} litros ({x_BK.varValue/total_kilt*100:.1f}%)\")\n",
        "    print(f\"  Licor C: {x_CK.varValue:.2f} litros ({x_CK.varValue/total_kilt*100:.1f}%)\")\n",
        "else:\n",
        "    print(\"  No se produce Kilt en la solución óptima\")\n",
        "\n",
        "# Tartan\n",
        "total_tartan = x_AT.varValue + x_BT.varValue + x_CT.varValue\n",
        "print(f\"\\nTARTAN (Total: {total_tartan:.2f} litros):\")\n",
        "if total_tartan > 0:\n",
        "    print(f\"  Licor A: {x_AT.varValue:.2f} litros ({x_AT.varValue/total_tartan*100:.1f}%)\")\n",
        "    print(f\"  Licor B: {x_BT.varValue:.2f} litros ({x_BT.varValue/total_tartan*100:.1f}%)\")\n",
        "    print(f\"  Licor C: {x_CT.varValue:.2f} litros ({x_CT.varValue/total_tartan*100:.1f}%)\")\n",
        "else:\n",
        "    print(\"  No se produce Tartan en la solución óptima\")\n",
        "\n",
        "# Uso de recursos\n",
        "print(\"\\n\" + \"=\" * 60)\n",
        "print(\"USO DE RECURSOS:\")\n",
        "print(\"=\" * 60)\n",
        "uso_A = x_AE.varValue + x_AK.varValue + x_AT.varValue\n",
        "uso_B = x_BE.varValue + x_BK.varValue + x_BT.varValue\n",
        "uso_C = x_CE.varValue + x_CK.varValue + x_CT.varValue\n",
        "\n",
        "print(f\"\\nLicor A: {uso_A:.2f} / {disponibilidad['A']} litros ({uso_A/disponibilidad['A']*100:.1f}% utilizado)\")\n",
        "print(f\"Licor B: {uso_B:.2f} / {disponibilidad['B']} litros ({uso_B/disponibilidad['B']*100:.1f}% utilizado)\")\n",
        "print(f\"Licor C: {uso_C:.2f} / {disponibilidad['C']} litros ({uso_C/disponibilidad['C']*100:.1f}% utilizado)\")\n",
        "\n",
        "# Análisis económico\n",
        "print(\"\\n\" + \"=\" * 60)\n",
        "print(\"ANÁLISIS ECONÓMICO:\")\n",
        "print(\"=\" * 60)\n",
        "\n",
        "# Escocés\n",
        "if total_escoces > 0:\n",
        "    ingreso_escoces = precio_venta['Escoces'] * total_escoces\n",
        "    costo_escoces = (precio_costo['A'] * x_AE.varValue +\n",
        "                      precio_costo['B'] * x_BE.varValue +\n",
        "                      precio_costo['C'] * x_CE.varValue)\n",
        "    beneficio_escoces = ingreso_escoces - costo_escoces\n",
        "\n",
        "    print(f\"\\nESCOCÉS:\")\n",
        "    print(f\"  Ingreso: ${ingreso_escoces:.2f}\")\n",
        "    print(f\"  Costo: ${costo_escoces:.2f}\")\n",
        "    print(f\"  Beneficio: ${beneficio_escoces:.2f}\")\n",
        "    print(f\"  Margen: {beneficio_escoces/ingreso_escoces*100:.1f}%\")\n",
        "else:\n",
        "    print(f\"\\nESCOCÉS: No se produce\")\n",
        "    ingreso_escoces = costo_escoces = beneficio_escoces = 0\n",
        "\n",
        "# Kilt\n",
        "if total_kilt > 0:\n",
        "    ingreso_kilt = precio_venta['Kilt'] * total_kilt\n",
        "    costo_kilt = (precio_costo['A'] * x_AK.varValue +\n",
        "                  precio_costo['B'] * x_BK.varValue +\n",
        "                  precio_costo['C'] * x_CK.varValue)\n",
        "    beneficio_kilt = ingreso_kilt - costo_kilt\n",
        "\n",
        "    print(f\"\\nKILT:\")\n",
        "    print(f\"  Ingreso: ${ingreso_kilt:.2f}\")\n",
        "    print(f\"  Costo: ${costo_kilt:.2f}\")\n",
        "    print(f\"  Beneficio: ${beneficio_kilt:.2f}\")\n",
        "    print(f\"  Margen: {beneficio_kilt/ingreso_kilt*100:.1f}%\")\n",
        "else:\n",
        "    print(f\"\\nKILT: No se produce\")\n",
        "    ingreso_kilt = costo_kilt = beneficio_kilt = 0\n",
        "\n",
        "# Tartan\n",
        "if total_tartan > 0:\n",
        "    ingreso_tartan = precio_venta['Tartan'] * total_tartan\n",
        "    costo_tartan = (precio_costo['A'] * x_AT.varValue +\n",
        "                    precio_costo['B'] * x_BT.varValue +\n",
        "                    precio_costo['C'] * x_CT.varValue)\n",
        "    beneficio_tartan = ingreso_tartan - costo_tartan\n",
        "\n",
        "    print(f\"\\nTARTAN:\")\n",
        "    print(f\"  Ingreso: ${ingreso_tartan:.2f}\")\n",
        "    print(f\"  Costo: ${costo_tartan:.2f}\")\n",
        "    print(f\"  Beneficio: ${beneficio_tartan:.2f}\")\n",
        "    print(f\"  Margen: {beneficio_tartan/ingreso_tartan*100:.1f}%\")\n",
        "else:\n",
        "    print(f\"\\nTARTAN: No se produce - no es rentable en la solución óptima\")\n",
        "    ingreso_tartan = costo_tartan = beneficio_tartan = 0\n",
        "\n",
        "# Totales\n",
        "print(f\"\\nTOTALES:\")\n",
        "print(f\"  Ingreso Total: ${ingreso_escoces + ingreso_kilt + ingreso_tartan:.2f}\")\n",
        "print(f\"  Costo Total: ${costo_escoces + costo_kilt + costo_tartan:.2f}\")\n",
        "print(f\"  Beneficio Total: ${beneficio_escoces + beneficio_kilt + beneficio_tartan:.2f}\")\n",
        "\n",
        "# Verificación de restricciones\n",
        "print(\"\\n\" + \"=\" * 60)\n",
        "print(\"VERIFICACIÓN DE RESTRICCIONES:\")\n",
        "print(\"=\" * 60)\n",
        "\n",
        "if total_escoces > 0:\n",
        "    print(\"\\nESCOCÉS:\")\n",
        "    pct_A_escoces = x_AE.varValue/total_escoces*100\n",
        "    pct_C_escoces = x_CE.varValue/total_escoces*100\n",
        "    print(f\"  % de A: {pct_A_escoces:.1f}% (mínimo 60%) {'✓' if pct_A_escoces >= 59.9 else '✗'}\")\n",
        "    print(f\"  % de C: {pct_C_escoces:.1f}% (máximo 20%) {'✓' if pct_C_escoces <= 20.1 else '✗'}\")\n",
        "else:\n",
        "    print(\"\\nESCOCÉS: No se produce - restricciones no aplican\")\n",
        "\n",
        "if total_kilt > 0:\n",
        "    print(\"\\nKILT:\")\n",
        "    pct_A_kilt = x_AK.varValue/total_kilt*100\n",
        "    pct_C_kilt = x_CK.varValue/total_kilt*100\n",
        "    print(f\"  % de A: {pct_A_kilt:.1f}% (mínimo 15%) {'✓' if pct_A_kilt >= 14.9 else '✗'}\")\n",
        "    print(f\"  % de C: {pct_C_kilt:.1f}% (máximo 60%) {'✓' if pct_C_kilt <= 60.1 else '✗'}\")\n",
        "else:\n",
        "    print(\"\\nKILT: No se produce - restricciones no aplican\")\n",
        "\n",
        "if total_tartan > 0:\n",
        "    print(\"\\nTARTAN:\")\n",
        "    pct_C_tartan = x_CT.varValue/total_tartan*100\n",
        "    print(f\"  % de C: {pct_C_tartan:.1f}% (máximo 50%) {'✓' if pct_C_tartan <= 50.1 else '✗'}\")\n",
        "else:\n",
        "    print(\"\\nTARTAN: No se produce - restricción no aplica\")\n",
        "\n",
        "# Análisis de la solución\n",
        "print(\"\\n\" + \"=\" * 60)\n",
        "print(\"ANÁLISIS DE LA SOLUCIÓN:\")\n",
        "print(\"=\" * 60)\n",
        "\n",
        "print(\"\\n¿Por qué esta es la solución óptima?\")\n",
        "print(\"-\" * 40)\n",
        "\n",
        "if total_tartan == 0:\n",
        "    print(\"\\n1. NO se produce TARTAN porque:\")\n",
        "    print(\"   - Tiene el precio de venta más bajo ($4.50/litro)\")\n",
        "    print(\"   - Su margen de beneficio es inferior al de otras marcas\")\n",
        "    print(\"   - Es más rentable usar los recursos en Escocés y Kilt\")\n",
        "\n",
        "if total_escoces > 0:\n",
        "    print(\"\\n2. ESCOCÉS se produce al máximo rentable:\")\n",
        "    print(f\"   - Usa exactamente el 60% mínimo de A (licor caro)\")\n",
        "    print(f\"   - No usa nada de C (maximiza calidad al precio más alto)\")\n",
        "    print(f\"   - Precio de venta: $6.80/litro (el más alto)\")\n",
        "\n",
        "if total_kilt > 0:\n",
        "    print(\"\\n3. KILT aprovecha el licor C disponible:\")\n",
        "    print(f\"   - Usa todo el licor C disponible ({uso_C:.0f} litros)\")\n",
        "    print(f\"   - Mantiene el mínimo de A requerido (15%)\")\n",
        "    print(f\"   - Precio intermedio pero buen volumen de producción\")\n",
        "\n",
        "print(\"\\n4. Uso eficiente de recursos:\")\n",
        "print(f\"   - Licor A (caro): {uso_A/disponibilidad['A']*100:.1f}% usado\")\n",
        "print(f\"   - Licor B (intermedio): {uso_B/disponibilidad['B']*100:.1f}% usado\")\n",
        "print(f\"   - Licor C (barato): {uso_C/disponibilidad['C']*100:.1f}% usado\")"
      ],
      "metadata": {
        "colab": {
          "base_uri": "https://localhost:8080/"
        },
        "id": "dh9qkcbpIvMp",
        "outputId": "e1210cad-908d-4c34-c53a-50f68cfe7751"
      },
      "execution_count": 26,
      "outputs": [
        {
          "output_type": "stream",
          "name": "stdout",
          "text": [
            "============================================================\n",
            "SOLUCIÓN ÓPTIMA DEL PROBLEMA DE MEZCLA DE WHISKIES\n",
            "============================================================\n",
            "\n",
            "Estado: Optimal\n",
            "Beneficio Total Máximo: $3988.89\n",
            "\n",
            "============================================================\n",
            "COMPOSICIÓN ÓPTIMA DE CADA MARCA (en litros):\n",
            "============================================================\n",
            "\n",
            "ESCOCÉS (Total: 2544.44 litros):\n",
            "  Licor A: 1526.67 litros (60.0%)\n",
            "  Licor B: 1017.78 litros (40.0%)\n",
            "  Licor C: 0.00 litros (0.0%)\n",
            "\n",
            "KILT (Total: 3155.56 litros):\n",
            "  Licor A: 473.33 litros (15.0%)\n",
            "  Licor B: 1482.22 litros (47.0%)\n",
            "  Licor C: 1200.00 litros (38.0%)\n",
            "\n",
            "TARTAN (Total: 0.00 litros):\n",
            "  No se produce Tartan en la solución óptima\n",
            "\n",
            "============================================================\n",
            "USO DE RECURSOS:\n",
            "============================================================\n",
            "\n",
            "Licor A: 2000.00 / 2000 litros (100.0% utilizado)\n",
            "Licor B: 2500.00 / 2500 litros (100.0% utilizado)\n",
            "Licor C: 1200.00 / 1200 litros (100.0% utilizado)\n",
            "\n",
            "============================================================\n",
            "ANÁLISIS ECONÓMICO:\n",
            "============================================================\n",
            "\n",
            "ESCOCÉS:\n",
            "  Ingreso: $17302.22\n",
            "  Costo: $15775.56\n",
            "  Beneficio: $1526.67\n",
            "  Margen: 8.8%\n",
            "\n",
            "KILT:\n",
            "  Ingreso: $17986.67\n",
            "  Costo: $15524.44\n",
            "  Beneficio: $2462.22\n",
            "  Margen: 13.7%\n",
            "\n",
            "TARTAN: No se produce - no es rentable en la solución óptima\n",
            "\n",
            "TOTALES:\n",
            "  Ingreso Total: $35288.89\n",
            "  Costo Total: $31300.00\n",
            "  Beneficio Total: $3988.89\n",
            "\n",
            "============================================================\n",
            "VERIFICACIÓN DE RESTRICCIONES:\n",
            "============================================================\n",
            "\n",
            "ESCOCÉS:\n",
            "  % de A: 60.0% (mínimo 60%) ✓\n",
            "  % de C: 0.0% (máximo 20%) ✓\n",
            "\n",
            "KILT:\n",
            "  % de A: 15.0% (mínimo 15%) ✓\n",
            "  % de C: 38.0% (máximo 60%) ✓\n",
            "\n",
            "TARTAN: No se produce - restricción no aplica\n",
            "\n",
            "============================================================\n",
            "ANÁLISIS DE LA SOLUCIÓN:\n",
            "============================================================\n",
            "\n",
            "¿Por qué esta es la solución óptima?\n",
            "----------------------------------------\n",
            "\n",
            "1. NO se produce TARTAN porque:\n",
            "   - Tiene el precio de venta más bajo ($4.50/litro)\n",
            "   - Su margen de beneficio es inferior al de otras marcas\n",
            "   - Es más rentable usar los recursos en Escocés y Kilt\n",
            "\n",
            "2. ESCOCÉS se produce al máximo rentable:\n",
            "   - Usa exactamente el 60% mínimo de A (licor caro)\n",
            "   - No usa nada de C (maximiza calidad al precio más alto)\n",
            "   - Precio de venta: $6.80/litro (el más alto)\n",
            "\n",
            "3. KILT aprovecha el licor C disponible:\n",
            "   - Usa todo el licor C disponible (1200 litros)\n",
            "   - Mantiene el mínimo de A requerido (15%)\n",
            "   - Precio intermedio pero buen volumen de producción\n",
            "\n",
            "4. Uso eficiente de recursos:\n",
            "   - Licor A (caro): 100.0% usado\n",
            "   - Licor B (intermedio): 100.0% usado\n",
            "   - Licor C (barato): 100.0% usado\n"
          ]
        }
      ]
    },
    {
      "cell_type": "code",
      "source": [],
      "metadata": {
        "id": "jegI0Q_nFZym"
      },
      "execution_count": null,
      "outputs": []
    }
  ]
}